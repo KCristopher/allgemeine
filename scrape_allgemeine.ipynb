{
 "cells": [
  {
   "cell_type": "code",
   "execution_count": 2,
   "metadata": {},
   "outputs": [],
   "source": [
    "import time\n",
    "from selenium import webdriver\n",
    "import pandas as pd\n",
    "from webdriver_manager.firefox import GeckoDriverManager"
   ]
  },
  {
   "cell_type": "code",
   "execution_count": 3,
   "metadata": {},
   "outputs": [],
   "source": [
    "browser = webdriver.Firefox(executable_path=GeckoDriverManager().install())"
   ]
  },
  {
   "cell_type": "code",
   "execution_count": 4,
   "metadata": {},
   "outputs": [],
   "source": [
    "browser.get('https://www.faz.net/aktuell/')"
   ]
  },
  {
   "cell_type": "code",
   "execution_count": 6,
   "metadata": {},
   "outputs": [],
   "source": [
    "einverstanden_frame = browser.find_element_by_xpath('//iframe[contains(@id, \"sp_message\")]')\n",
    "browser.switch_to.frame(einverstanden_frame)\n",
    "einverstanden_button = browser.find_element_by_xpath('//div/button[contains(@title, \"EINVERSTANDEN\")]')\n",
    "einverstanden_button.click()"
   ]
  },
  {
   "cell_type": "code",
   "execution_count": 7,
   "metadata": {},
   "outputs": [],
   "source": [
    "browser.switch_to.default_content()"
   ]
  },
  {
   "cell_type": "code",
   "execution_count": 8,
   "metadata": {},
   "outputs": [
    {
     "data": {
      "text/plain": [
       "{'https://www.faz.net/',\n",
       " 'https://www.faz.net/aktuell/',\n",
       " 'https://www.faz.net/aktuell/feuilleton/',\n",
       " 'https://www.faz.net/aktuell/feuilleton/kolumnen/',\n",
       " 'https://www.faz.net/aktuell/finanzen/',\n",
       " 'https://www.faz.net/aktuell/finanzen/boersen-maerkte/',\n",
       " 'https://www.faz.net/aktuell/finanzen/kurs/aktie/bmwst/DE0005190003/xetra/',\n",
       " 'https://www.faz.net/aktuell/finanzen/kurs/aktie/rheinmetall/DE0007030009/xetra/',\n",
       " 'https://www.faz.net/aktuell/finanzen/kurs/aktie/rwest/DE0007037129/xetra/',\n",
       " 'https://www.faz.net/aktuell/finanzen/kurs/aktie/siemensenergyagnaon/DE000ENER6Y0/xetra/',\n",
       " 'https://www.faz.net/aktuell/finanzen/kurs/index/dax/DE0008469008/xetra/',\n",
       " 'https://www.faz.net/aktuell/gesellschaft/',\n",
       " 'https://www.faz.net/aktuell/karriere-hochschule/',\n",
       " 'https://www.faz.net/aktuell/politik/',\n",
       " 'https://www.faz.net/aktuell/rhein-main/',\n",
       " 'https://www.faz.net/aktuell/rhein-main/kultur/',\n",
       " 'https://www.faz.net/aktuell/sport/',\n",
       " 'https://www.faz.net/aktuell/sport/fussball/',\n",
       " 'https://www.faz.net/aktuell/sport/rhein-main-sport/',\n",
       " 'https://www.faz.net/aktuell/stil/',\n",
       " 'https://www.faz.net/aktuell/technik-motor/',\n",
       " 'https://www.faz.net/aktuell/wirtschaft/',\n",
       " 'https://www.faz.net/aktuell/wissen/'}"
      ]
     },
     "execution_count": 8,
     "metadata": {},
     "output_type": "execute_result"
    }
   ],
   "source": [
    "{ '/'.join( str(b.get_attribute('href')).split('/') [ : - 2] ) + '/'\\\n",
    " for b in browser.find_elements_by_xpath('//li/a[contains(@href, \"https://www.faz.net/aktuell/\")]')}"
   ]
  }
 ],
 "metadata": {
  "kernelspec": {
   "display_name": "base",
   "language": "python",
   "name": "python3"
  },
  "language_info": {
   "codemirror_mode": {
    "name": "ipython",
    "version": 3
   },
   "file_extension": ".py",
   "mimetype": "text/x-python",
   "name": "python",
   "nbconvert_exporter": "python",
   "pygments_lexer": "ipython3",
   "version": "3.8.18"
  }
 },
 "nbformat": 4,
 "nbformat_minor": 2
}
